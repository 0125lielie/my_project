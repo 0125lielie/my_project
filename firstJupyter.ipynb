{
 "cells": [
  {
   "cell_type": "markdown",
   "id": "0869612a",
   "metadata": {},
   "source": [
    "# 不要在windows git bash上用conda！八字不合！\n",
    "\n",
    "# 第一个 Jupyter Notebook\n",
    "\n",
    "欢迎来到 Jupyter Notebook 的世界！这是一个交互式的笔记，我们将在这里完成三件小事：\n",
    "1.  运行经典的 \"Hello, World!\" 来确认环境。\n",
    "2.  通过一个变量实验，来验证单元格之间共享上下文的“记忆”特性。\n",
    "3.  使用我们安装的 `pandas` 和 `matplotlib` 库，进行一次迷你的数据分析和可视化。\n",
    "\n",
    "让我们开始吧！"
   ]
  },
  {
   "cell_type": "markdown",
   "id": "3ed346f2",
   "metadata": {},
   "source": [
    "## 第一部分：Hello, World! - 确认环境\n",
    "\n",
    "这是学习任何编程工具的传统第一步。运行下面的代码单元格，如果它能成功打印出 \"Hello, Jupyter World!\"，就说明您的 Conda 环境、Jupyter 内核和 VS Code 已经完美地连接在一起了。\n",
    "\n",
    "**如何运行**：点击这个单元格，然后按快捷键 `Shift + Enter`。"
   ]
  },
  {
   "cell_type": "code",
   "execution_count": null,
   "id": "82d30589",
   "metadata": {},
   "outputs": [
    {
     "ename": "",
     "evalue": "",
     "output_type": "error",
     "traceback": [
      "\u001b[1;31m内核无法启动，因为 Python 环境“jupyter-env (Python -1.-1.-1)”不再可用。请考虑选择另一个内核或刷新 Python 环境列表。"
     ]
    }
   ],
   "source": [
    "print(\"Hello, Jupyter World!\")"
   ]
  },
  {
   "cell_type": "markdown",
   "id": "b8992766",
   "metadata": {},
   "source": [
    "## 第二部分：验证上下文 - 单元格之间的“记忆”\n",
    "\n",
    "Jupyter Notebook 最重要的特性之一就是它的所有代码单元格都共享同一个“内核”（可以理解为共享一个“大脑”）。这意味着在一个单元格中定义的变量，可以在其他任何单元格中使用。\n",
    "\n",
    "让我们来验证一下：\n",
    "\n",
    "一个代码框不是独立的，笔记中前面已执行的代码，会直接影响后面将要执行的代码！\n"
   ]
  },
  {
   "cell_type": "code",
   "execution_count": null,
   "id": "2a37ead3",
   "metadata": {},
   "outputs": [],
   "source": [
    "# 我们在这个单元格里定义一个变量\n",
    "my_message = \"我是在第一个代码单元格里被定义的！\"\n",
    "\n",
    "print(\"变量 my_message 已经被创建。\")"
   ]
  },
  {
   "cell_type": "code",
   "execution_count": null,
   "id": "300c2c27",
   "metadata": {},
   "outputs": [],
   "source": [
    "# 现在，我们在一个新的单元格里，尝试打印出刚才定义的变量\n",
    "# 您会发现，即使它们在不同的代码框里，第二个单元格也“认识”第一个单元格里定义的 my_message\n",
    "print(my_message)"
   ]
  },
  {
   "cell_type": "code",
   "execution_count": null,
   "id": "3c6f7a99",
   "metadata": {},
   "outputs": [],
   "source": [
    "# 让我们更进一步，修改这个变量\n",
    "my_message = \"我现在在第三个代码单元格里被修改了！\"\n",
    "\n",
    "print(\"变量 my_message 的内容已被更新。\")\n",
    "\n",
    "# 再次打印它，看看会发生什么\n",
    "# 您会看到，变量的值已经被成功覆盖。整个 Notebook 的“记忆”是实时同步的。\n",
    "print(my_message)"
   ]
  },
  {
   "cell_type": "markdown",
   "id": "95250b54",
   "metadata": {},
   "source": [
    "## 第三部分：小试牛刀 - 使用 Pandas 和 Matplotlib 进行简单分析\n",
    "\n",
    "现在，让我们来体验一下 Jupyter 为何在数据科学领域如此受欢迎。我们将使用之前在 `jupyter-env` 环境中安装的 `pandas` 和 `matplotlib` 库。\n",
    "\n",
    "**目标**：创建一个简单的销售数据集，计算平均销售额，并绘制一张趋势图。"
   ]
  },
  {
   "cell_type": "code",
   "execution_count": null,
   "id": "1eda7feb",
   "metadata": {},
   "outputs": [],
   "source": [
    "# 第一步：导入我们需要的库\n",
    "# pd 是 pandas 的通用别名\n",
    "# plt 是 matplotlib.pyplot 的通用别名\n",
    "import pandas as pd\n",
    "import matplotlib.pyplot as plt\n",
    "\n",
    "print(\"Pandas 和 Matplotlib 库导入成功！\")\n",
    "\n",
    "# 第二步：创建一些模拟数据\n",
    "# 我们用一个 Python 字典来表示几年的销售额数据\n",
    "data = {\n",
    "    '年份': [2021, 2022, 2023, 2024, 2025],\n",
    "    '销售额': [100, 130, 150, 140, 180]\n",
    "}\n",
    "\n",
    "# 使用 pandas 将字典转换成一个功能强大的 DataFrame (可以把它想象成一个智能表格)\n",
    "df = pd.DataFrame(data)\n",
    "\n",
    "print(\"销售数据 DataFrame 创建成功！\")\n",
    "\n",
    "# 第三步：查看和分析数据\n",
    "# 在 Jupyter 中，直接输入一个 DataFrame 变量名，它会以漂亮的表格形式显示出来\n",
    "df\n",
    "\n",
    "# 让我们用 pandas 计算一下平均销售额\n",
    "average_sales = df['销售额'].mean()\n",
    "\n",
    "print(f\"这几年的平均销售额为: {average_sales} 万元\")\n",
    "\n",
    "# 第四步：数据可视化\n",
    "# 使用 matplotlib 绘制一张折线图，来直观地展示销售额的变化趋势\n",
    "# Jupyter 的另一个魔力：图表会直接嵌入到笔记的输出区域！\n",
    "\n",
    "plt.figure(figsize=(8, 5))  # 设置图表大小\n",
    "plt.plot(df['年份'], df['销售额'], marker='o', linestyle='-') # 绘制折线图，并用圆点标记数据点\n",
    "\n",
    "# 添加一些图表元素，让它更清晰\n",
    "plt.title('年度销售额变化图 (Annual Sales Trend)')\n",
    "plt.xlabel('年份 (Year)')\n",
    "plt.ylabel('销售额 (万元)')\n",
    "plt.grid(True) # 显示网格\n",
    "\n",
    "plt.show() # 显示图表\n",
    "\n"
   ]
  }
 ],
 "metadata": {
  "kernelspec": {
   "display_name": "jupyter-env",
   "language": "python",
   "name": "python3"
  },
  "language_info": {
   "name": "python",
   "version": "undefined.undefined.undefined"
  }
 },
 "nbformat": 4,
 "nbformat_minor": 5
}
